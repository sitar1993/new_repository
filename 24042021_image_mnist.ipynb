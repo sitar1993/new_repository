{
  "nbformat": 4,
  "nbformat_minor": 0,
  "metadata": {
    "colab": {
      "name": "24042021- image_mnist.ipynb",
      "provenance": []
    },
    "kernelspec": {
      "name": "python3",
      "display_name": "Python 3"
    },
    "language_info": {
      "name": "python"
    },
    "accelerator": "GPU"
  },
  "cells": [
    {
      "cell_type": "code",
      "metadata": {
        "id": "kVqTzGIgLSoi"
      },
      "source": [
        "from keras.datasets import mnist"
      ],
      "execution_count": 5,
      "outputs": []
    },
    {
      "cell_type": "code",
      "metadata": {
        "id": "XKFZR3qKN7lD"
      },
      "source": [
        "import matplotlib.pyplot as plt\n",
        "import numpy as np\n",
        "import seaborn as sns\n",
        "import random"
      ],
      "execution_count": 6,
      "outputs": []
    },
    {
      "cell_type": "code",
      "metadata": {
        "id": "bleGcBIhOQ8-"
      },
      "source": [
        "from keras.models import Sequential\n",
        "from keras.layers import Dense, Dropout\n",
        "from keras.optimizers import Adam, RMSprop\n",
        "from keras.utils.np_utils import to_categorical"
      ],
      "execution_count": 8,
      "outputs": []
    },
    {
      "cell_type": "code",
      "metadata": {
        "colab": {
          "base_uri": "https://localhost:8080/"
        },
        "id": "224RdhvdOazV",
        "outputId": "3dac950d-30b5-48dd-bf28-f3ad227759f6"
      },
      "source": [
        "data = mnist.load_data()"
      ],
      "execution_count": 9,
      "outputs": [
        {
          "output_type": "stream",
          "text": [
            "Downloading data from https://storage.googleapis.com/tensorflow/tf-keras-datasets/mnist.npz\n",
            "11493376/11490434 [==============================] - 0s 0us/step\n"
          ],
          "name": "stdout"
        }
      ]
    },
    {
      "cell_type": "code",
      "metadata": {
        "colab": {
          "base_uri": "https://localhost:8080/"
        },
        "id": "LaA29jNwOvIX",
        "outputId": "bf7f30e0-2f5c-4a0f-a0d0-0ad1631c3655"
      },
      "source": [
        "type(data)"
      ],
      "execution_count": 12,
      "outputs": [
        {
          "output_type": "execute_result",
          "data": {
            "text/plain": [
              "tuple"
            ]
          },
          "metadata": {
            "tags": []
          },
          "execution_count": 12
        }
      ]
    },
    {
      "cell_type": "code",
      "metadata": {
        "id": "hcS8Hi72Oxna"
      },
      "source": [
        "(x_train, y_train), (x_test, y_test) = data "
      ],
      "execution_count": 14,
      "outputs": []
    },
    {
      "cell_type": "code",
      "metadata": {
        "colab": {
          "base_uri": "https://localhost:8080/"
        },
        "id": "MgA0PM_FPA-0",
        "outputId": "7e056022-dd0d-418b-8b8b-369154368c4d"
      },
      "source": [
        "print('no of trainnig images = ',x_train.shape[0])\n",
        "print('no of trainnig labels = ',y_train.shape[0])"
      ],
      "execution_count": 18,
      "outputs": [
        {
          "output_type": "stream",
          "text": [
            "no of trainnig images =  60000\n",
            "no of trainnig labels =  60000\n"
          ],
          "name": "stdout"
        }
      ]
    },
    {
      "cell_type": "code",
      "metadata": {
        "colab": {
          "base_uri": "https://localhost:8080/"
        },
        "id": "7jnkxq7vPUg_",
        "outputId": "35588377-d840-4538-9932-ae8359d564a9"
      },
      "source": [
        "print('w X h of trainnig images = ',x_train.shape[1:])\n",
        "print('w X h of testing images = ',x_test.shape[1:])\n"
      ],
      "execution_count": 19,
      "outputs": [
        {
          "output_type": "stream",
          "text": [
            "w X h of trainnig images =  (28, 28)\n",
            "w X h of testing images =  (28, 28)\n"
          ],
          "name": "stdout"
        }
      ]
    },
    {
      "cell_type": "code",
      "metadata": {
        "colab": {
          "base_uri": "https://localhost:8080/"
        },
        "id": "8IEQnQz6PhmY",
        "outputId": "3d3fda9f-9220-4d30-f1f9-d87c32dd99e8"
      },
      "source": [
        "print('\\ntraining_input___________________________: x_train.shape = ', x_train.shape)\n",
        "print('labels___________________________________: y_train.shape = ', y_train.shape) \n"
      ],
      "execution_count": 20,
      "outputs": [
        {
          "output_type": "stream",
          "text": [
            "\n",
            "training_input___________________________: x_train.shape =  (60000, 28, 28)\n",
            "labels___________________________________: y_train.shape =  (60000,)\n"
          ],
          "name": "stdout"
        }
      ]
    },
    {
      "cell_type": "code",
      "metadata": {
        "colab": {
          "base_uri": "https://localhost:8080/",
          "height": 1000
        },
        "id": "nD9JGEjYRP2a",
        "outputId": "a6517bca-8361-4375-e52d-9e6ee5e7c982"
      },
      "source": [
        "plt.imshow(x_train[0]) \n",
        "plt.title(y_train[0]) \n",
        "plt.show()\n",
        "\n",
        "plt.imshow(x_train[39])\n",
        "plt.title(y_train[39])\n",
        "plt.show()\n",
        "\n",
        "plt.imshow(x_train[84])\n",
        "plt.title(y_train[84])\n",
        "plt.show()\n",
        "\n",
        "plt.imshow(x_train[104])\n",
        "plt.title(y_train[104])\n",
        "plt.show()"
      ],
      "execution_count": 21,
      "outputs": [
        {
          "output_type": "display_data",
          "data": {
            "image/png": "[encoded data removed]",
            "text/plain": [
              "<Figure size 432x288 with 1 Axes>"
            ]
          },
          "metadata": {
            "tags": [],
            "needs_background": "light"
          }
        },
        {
          "output_type": "display_data",
          "data": {
            "image/png": "[encoded data removed]",
            "text/plain": [
              "<Figure size 432x288 with 1 Axes>"
            ]
          },
          "metadata": {
            "tags": [],
            "needs_background": "light"
          }
        },
        {
          "output_type": "display_data",
          "data": {
            "image/png": "[encoded data removed]",
            "text/plain": [
              "<Figure size 432x288 with 1 Axes>"
            ]
          },
          "metadata": {
            "tags": [],
            "needs_background": "light"
          }
        },
        {
          "output_type": "display_data",
          "data": {
            "image/png": "[encoded data removed]",
            "text/plain": [
              "<Figure size 432x288 with 1 Axes>"
            ]
          },
          "metadata": {
            "tags": [],
            "needs_background": "light"
          }
        }
      ]
    },
    {
      "cell_type": "code",
      "metadata": {
        "colab": {
          "base_uri": "https://localhost:8080/"
        },
        "id": "DQO9AbBaR_jq",
        "outputId": "0a84ad27-c44f-419e-e341-ef6643a92a6c"
      },
      "source": [
        "sumnum = 0\n",
        "for i in range(10):  # <-- i = (0, 9)\n",
        "  sumnum = sumnum + len(x_train[y_train == i])   \n",
        "  print(i, '------>', len(y_train[y_train == i]))\n",
        "print('total = ',sumnum) "
      ],
      "execution_count": 26,
      "outputs": [
        {
          "output_type": "stream",
          "text": [
            "0 ------> 5923\n",
            "1 ------> 6742\n",
            "2 ------> 5958\n",
            "3 ------> 6131\n",
            "4 ------> 5842\n",
            "5 ------> 5421\n",
            "6 ------> 5918\n",
            "7 ------> 6265\n",
            "8 ------> 5851\n",
            "9 ------> 5949\n",
            "total =  60000\n"
          ],
          "name": "stdout"
        }
      ]
    },
    {
      "cell_type": "code",
      "metadata": {
        "colab": {
          "base_uri": "https://localhost:8080/",
          "height": 321
        },
        "id": "BUvhB91CSoEa",
        "outputId": "12362893-4d83-41d5-927f-7943afff0de8"
      },
      "source": [
        "sns.countplot(y_train)\n",
        "plt.show() "
      ],
      "execution_count": 27,
      "outputs": [
        {
          "output_type": "stream",
          "text": [
            "/usr/local/lib/python3.7/dist-packages/seaborn/_decorators.py:43: FutureWarning: Pass the following variable as a keyword arg: x. From version 0.12, the only valid positional argument will be `data`, and passing other arguments without an explicit keyword will result in an error or misinterpretation.\n",
            "  FutureWarning\n"
          ],
          "name": "stderr"
        },
        {
          "output_type": "display_data",
          "data": {
            "image/png": "[encoded data removed]",
            "text/plain": [
              "<Figure size 432x288 with 1 Axes>"
            ]
          },
          "metadata": {
            "tags": [],
            "needs_background": "light"
          }
        }
      ]
    },
    {
      "cell_type": "code",
      "metadata": {
        "colab": {
          "base_uri": "https://localhost:8080/",
          "height": 580
        },
        "id": "T0tjrJLySpqo",
        "outputId": "b9b9eb57-d549-4368-c166-9cad8da1f34e"
      },
      "source": [
        "n_cols = 5\n",
        "n_classes = 10\n",
        "fig, ax = plt.subplots(nrows = n_classes, ncols = n_cols, figsize=(5,8))\n",
        "fig.tight_layout()\n",
        "for i in range(n_cols):\n",
        "  for j in range(n_classes):\n",
        "    selected_images = x_train[y_train == j]\n",
        "    image = selected_images[np.random.randint(0, len(selected_images))]\n",
        "    # ax[1][1].imshow(img)\n",
        "    ax[j][i].imshow(image)\n",
        "    ax[j][i].set_title(str(j)) \n",
        "    ax[j][i].axis('off')\n",
        " "
      ],
      "execution_count": 38,
      "outputs": [
        {
          "output_type": "display_data",
          "data": {
            "image/png": "[encoded data removed]",
            "text/plain": [
              "<Figure size 360x576 with 50 Axes>"
            ]
          },
          "metadata": {
            "tags": [],
            "needs_background": "light"
          }
        }
      ]
    },
    {
      "cell_type": "code",
      "metadata": {
        "id": "6fv5d7FDYMdU"
      },
      "source": [
        "n_pixel = 28 * 28\n",
        "def preprocess(image):\n",
        "  image = image.reshape(n_pixel) # <-- to conv the image into 1d array or to flatten the array\n",
        "  image = image/255  # to convert all the values in pu/scaling\n",
        "  return image\n",
        " \n"
      ],
      "execution_count": 41,
      "outputs": []
    },
    {
      "cell_type": "code",
      "metadata": {
        "colab": {
          "base_uri": "https://localhost:8080/"
        },
        "id": "Zis1hOPWdsxi",
        "outputId": "75dc3dde-d443-4f06-cbb6-d64768f15f88"
      },
      "source": [
        "x_train = np.array(list(map(preprocess, x_train)))\n",
        "\n",
        "x_test = np.array(list(map(preprocess, x_test)))\n",
        "\n",
        "print(x_train.shape)\n",
        "print( x_test.shape)\n",
        "\n",
        "y_train.shape"
      ],
      "execution_count": 44,
      "outputs": [
        {
          "output_type": "stream",
          "text": [
            "(60000, 784)\n",
            "(10000, 784)\n"
          ],
          "name": "stdout"
        },
        {
          "output_type": "execute_result",
          "data": {
            "text/plain": [
              "(60000,)"
            ]
          },
          "metadata": {
            "tags": []
          },
          "execution_count": 44
        }
      ]
    },
    {
      "cell_type": "code",
      "metadata": {
        "id": "oS5_Nqg8dbW6"
      },
      "source": [
        "y_train = to_categorical(y_train, n_classes) # # n_classes = len(np.unique(y_train))\n",
        "\n",
        "y_test = to_categorical(y_test, n_classes)"
      ],
      "execution_count": 45,
      "outputs": []
    },
    {
      "cell_type": "code",
      "metadata": {
        "colab": {
          "base_uri": "https://localhost:8080/"
        },
        "id": "Y_EQaVnseP8S",
        "outputId": "612244a0-1a28-4941-ae01-38b594056c4a"
      },
      "source": [
        "model = Sequential()\n",
        "model.add(Dense(units=222, input_dim=n_pixel, activation='sigmoid')) \n",
        "model.add(Dense(383, activation='sigmoid')) \n",
        "model.add(Dense(10, activation='softmax')) \n",
        "model.compile(Adam(lr=0.01), loss='categorical_crossentropy', metrics=['accuracy'])\n",
        "model.summary()"
      ],
      "execution_count": 46,
      "outputs": [
        {
          "output_type": "stream",
          "text": [
            "Model: \"sequential\"\n",
            "_________________________________________________________________\n",
            "Layer (type)                 Output Shape              Param #   \n",
            "=================================================================\n",
            "dense (Dense)                (None, 222)               174270    \n",
            "_________________________________________________________________\n",
            "dense_1 (Dense)              (None, 383)               85409     \n",
            "_________________________________________________________________\n",
            "dense_2 (Dense)              (None, 10)                3840      \n",
            "=================================================================\n",
            "Total params: 263,519\n",
            "Trainable params: 263,519\n",
            "Non-trainable params: 0\n",
            "_________________________________________________________________\n"
          ],
          "name": "stdout"
        }
      ]
    },
    {
      "cell_type": "code",
      "metadata": {
        "colab": {
          "base_uri": "https://localhost:8080/"
        },
        "id": "bHfFSHHte-h4",
        "outputId": "59a47757-9963-4681-a4e2-3ff5025a4435"
      },
      "source": [
        "h = model.fit(x_train, y_train, epochs=10, verbose=1, validation_data=(x_test, y_test))"
      ],
      "execution_count": 47,
      "outputs": [
        {
          "output_type": "stream",
          "text": [
            "Epoch 1/10\n",
            "1875/1875 [==============================] - 7s 2ms/step - loss: 1.8762 - accuracy: 0.3009 - val_loss: 0.4385 - val_accuracy: 0.8608\n",
            "Epoch 2/10\n",
            "1875/1875 [==============================] - 4s 2ms/step - loss: 0.4292 - accuracy: 0.8667 - val_loss: 0.3441 - val_accuracy: 0.8921\n",
            "Epoch 3/10\n",
            "1875/1875 [==============================] - 4s 2ms/step - loss: 0.3436 - accuracy: 0.8930 - val_loss: 0.2796 - val_accuracy: 0.9146\n",
            "Epoch 4/10\n",
            "1875/1875 [==============================] - 4s 2ms/step - loss: 0.2990 - accuracy: 0.9088 - val_loss: 0.3165 - val_accuracy: 0.9059\n",
            "Epoch 5/10\n",
            "1875/1875 [==============================] - 4s 2ms/step - loss: 0.2635 - accuracy: 0.9196 - val_loss: 0.2623 - val_accuracy: 0.9247\n",
            "Epoch 6/10\n",
            "1875/1875 [==============================] - 4s 2ms/step - loss: 0.2419 - accuracy: 0.9251 - val_loss: 0.2525 - val_accuracy: 0.9233\n",
            "Epoch 7/10\n",
            "1875/1875 [==============================] - 4s 2ms/step - loss: 0.2166 - accuracy: 0.9332 - val_loss: 0.2102 - val_accuracy: 0.9381\n",
            "Epoch 8/10\n",
            "1875/1875 [==============================] - 4s 2ms/step - loss: 0.1952 - accuracy: 0.9399 - val_loss: 0.2018 - val_accuracy: 0.9414\n",
            "Epoch 9/10\n",
            "1875/1875 [==============================] - 4s 2ms/step - loss: 0.1805 - accuracy: 0.9442 - val_loss: 0.1859 - val_accuracy: 0.9447\n",
            "Epoch 10/10\n",
            "1875/1875 [==============================] - 4s 2ms/step - loss: 0.1635 - accuracy: 0.9487 - val_loss: 0.1690 - val_accuracy: 0.9481\n"
          ],
          "name": "stdout"
        }
      ]
    },
    {
      "cell_type": "code",
      "metadata": {
        "colab": {
          "base_uri": "https://localhost:8080/",
          "height": 513
        },
        "id": "eEzs63hRfO3L",
        "outputId": "9d2509aa-1ab3-451c-8495-3e50d6036cb2"
      },
      "source": [
        "plt.plot(h.history['loss'], label='training loss')\n",
        "plt.plot(h.history['val_loss'], label='testing loss')\n",
        "plt.legend()\n",
        "plt.show()\n",
        "\n",
        "plt.plot(h.history['accuracy'], label='training accuracy')\n",
        "plt.plot(h.history['val_accuracy'], label='testing accuracy')\n",
        "plt.legend()\n",
        "plt.show()"
      ],
      "execution_count": 48,
      "outputs": [
        {
          "output_type": "display_data",
          "data": {
            "image/png": "[encoded data removed]",
            "text/plain": [
              "<Figure size 432x288 with 1 Axes>"
            ]
          },
          "metadata": {
            "tags": [],
            "needs_background": "light"
          }
        },
        {
          "output_type": "display_data",
          "data": {
            "image/png": "[encoded data removed]",
            "text/plain": [
              "<Figure size 432x288 with 1 Axes>"
            ]
          },
          "metadata": {
            "tags": [],
            "needs_background": "light"
          }
        }
      ]
    },
    {
      "cell_type": "code",
      "metadata": {
        "id": "YZP3LSGRfqGf"
      },
      "source": [
        "model.save('mnist_pptron.h5')\n"
      ],
      "execution_count": 49,
      "outputs": []
    },
    {
      "cell_type": "code",
      "metadata": {
        "colab": {
          "base_uri": "https://localhost:8080/",
          "height": 17
        },
        "id": "GO1oukMpgJ4d",
        "outputId": "2c00a877-bad3-48c5-a340-6731fd363e13"
      },
      "source": [
        "from google.colab import files \n",
        "files.download('mnist_pptron.h5') "
      ],
      "execution_count": 50,
      "outputs": [
        {
          "output_type": "display_data",
          "data": {
            "application/javascript": [
              "\n",
              "    async function download(id, filename, size) {\n",
              "      if (!google.colab.kernel.accessAllowed) {\n",
              "        return;\n",
              "      }\n",
              "      const div = document.createElement('div');\n",
              "      const label = document.createElement('label');\n",
              "      label.textContent = `Downloading \"${filename}\": `;\n",
              "      div.appendChild(label);\n",
              "      const progress = document.createElement('progress');\n",
              "      progress.max = size;\n",
              "      div.appendChild(progress);\n",
              "      document.body.appendChild(div);\n",
              "\n",
              "      const buffers = [];\n",
              "      let downloaded = 0;\n",
              "\n",
              "      const channel = await google.colab.kernel.comms.open(id);\n",
              "      // Send a message to notify the kernel that we're ready.\n",
              "      channel.send({})\n",
              "\n",
              "      for await (const message of channel.messages) {\n",
              "        // Send a message to notify the kernel that we're ready.\n",
              "        channel.send({})\n",
              "        if (message.buffers) {\n",
              "          for (const buffer of message.buffers) {\n",
              "            buffers.push(buffer);\n",
              "            downloaded += buffer.byteLength;\n",
              "            progress.value = downloaded;\n",
              "          }\n",
              "        }\n",
              "      }\n",
              "      const blob = new Blob(buffers, {type: 'application/binary'});\n",
              "      const a = document.createElement('a');\n",
              "      a.href = window.URL.createObjectURL(blob);\n",
              "      a.download = filename;\n",
              "      div.appendChild(a);\n",
              "      a.click();\n",
              "      div.remove();\n",
              "    }\n",
              "  "
            ],
            "text/plain": [
              "<IPython.core.display.Javascript object>"
            ]
          },
          "metadata": {
            "tags": []
          }
        },
        {
          "output_type": "display_data",
          "data": {
            "application/javascript": [
              "download(\"download_1f1207c0-895a-4e1b-a327-36adde28c2b7\", \"mnist_pptron.h5\", 3195612)"
            ],
            "text/plain": [
              "<IPython.core.display.Javascript object>"
            ]
          },
          "metadata": {
            "tags": []
          }
        }
      ]
    },
    {
      "cell_type": "code",
      "metadata": {
        "id": "oY_VJXYigPr6"
      },
      "source": [
        ""
      ],
      "execution_count": null,
      "outputs": []
    }
  ]
}