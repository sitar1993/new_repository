{
  "nbformat": 4,
  "nbformat_minor": 0,
  "metadata": {
    "colab": {
      "name": "10012020- image_mnist_with_convolution_filter.ipynb",
      "provenance": [],
      "collapsed_sections": []
    },
    "kernelspec": {
      "name": "python3",
      "display_name": "Python 3"
    },
    "accelerator": "GPU"
  },
  "cells": [
    {
      "cell_type": "code",
      "metadata": {
        "id": "bePisWovXZIV"
      },
      "source": [
        "from keras.datasets import mnist"
      ],
      "execution_count": 1,
      "outputs": []
    },
    {
      "cell_type": "code",
      "metadata": {
        "id": "pGz1rVgVwmND"
      },
      "source": [
        "import matplotlib.pyplot as plt\n",
        "import numpy as np\n",
        "import seaborn as sns\n",
        "import random\n",
        "import cv2\n"
      ],
      "execution_count": 7,
      "outputs": []
    },
    {
      "cell_type": "code",
      "metadata": {
        "id": "IltW7D_GMpAx"
      },
      "source": [
        "from keras.models import Sequential\n",
        "from keras.layers import Dense, Dropout, Flatten\n",
        "from keras.layers.convolutional import Conv2D, MaxPooling2D \n",
        "from keras.optimizers import Adam, RMSprop \n",
        "from keras.utils.np_utils import to_categorical"
      ],
      "execution_count": 3,
      "outputs": []
    },
    {
      "cell_type": "code",
      "metadata": {
        "id": "GwW2hVjRwIsu",
        "colab": {
          "base_uri": "https://localhost:8080/"
        },
        "outputId": "597d713b-cd87-4d9d-f648-0ddb95ccfdff"
      },
      "source": [
        "(x_train, y_train), (x_test, y_test) = mnist.load_data()"
      ],
      "execution_count": 4,
      "outputs": [
        {
          "output_type": "stream",
          "text": [
            "Downloading data from https://storage.googleapis.com/tensorflow/tf-keras-datasets/mnist.npz\n",
            "11493376/11490434 [==============================] - 0s 0us/step\n"
          ],
          "name": "stdout"
        }
      ]
    },
    {
      "cell_type": "code",
      "metadata": {
        "id": "2Drdh60pwcxj",
        "colab": {
          "base_uri": "https://localhost:8080/"
        },
        "outputId": "5a9f517e-67e2-431a-ecd9-7bb70723a97b"
      },
      "source": [
        "print('no of trainnig images',x_train.shape[0])\n",
        "print('no of trainnig labels',y_train.shape[0])\n",
        "\n",
        "print('w X h of trainnig images',x_train.shape[1:])\n",
        "print('w X h of testing images',x_test.shape[1:])\n",
        "\n",
        "print('\\ntraining_input___________________________: x_train.shape = ', x_train.shape)\n",
        "print('labels___________________________________: y_train.shape = ', y_train.shape) \n"
      ],
      "execution_count": 5,
      "outputs": [
        {
          "output_type": "stream",
          "text": [
            "no of trainnig images 60000\n",
            "no of trainnig labels 60000\n",
            "w X h of trainnig images (28, 28)\n",
            "w X h of testing images (28, 28)\n",
            "\n",
            "training_input___________________________: x_train.shape =  (60000, 28, 28)\n",
            "labels___________________________________: y_train.shape =  (60000,)\n"
          ],
          "name": "stdout"
        }
      ]
    },
    {
      "cell_type": "code",
      "metadata": {
        "id": "GwK4e_DSzWOi",
        "colab": {
          "base_uri": "https://localhost:8080/",
          "height": 281
        },
        "outputId": "7dfe37c0-01a9-421e-edf4-d323c3d979f4"
      },
      "source": [
        "plt.imshow(x_train[104])\n",
        "plt.title(y_train[104])\n",
        "plt.show()"
      ],
      "execution_count": 8,
      "outputs": [
        {
          "output_type": "display_data",
          "data": {
            "image/png": "[encoded data removed]",
            "text/plain": [
              "<Figure size 432x288 with 1 Axes>"
            ]
          },
          "metadata": {
            "tags": [],
            "needs_background": "light"
          }
        }
      ]
    },
    {
      "cell_type": "code",
      "metadata": {
        "id": "hVHyt__pxR9Y",
        "colab": {
          "base_uri": "https://localhost:8080/"
        },
        "outputId": "91397096-74fd-4348-cd99-fc18e3056299"
      },
      "source": [
        "y_train"
      ],
      "execution_count": 11,
      "outputs": [
        {
          "output_type": "execute_result",
          "data": {
            "text/plain": [
              "array([5, 0, 4, ..., 5, 6, 8], dtype=uint8)"
            ]
          },
          "metadata": {
            "tags": []
          },
          "execution_count": 11
        }
      ]
    },
    {
      "cell_type": "code",
      "metadata": {
        "id": "MX-aSFlH0Q5q",
        "colab": {
          "base_uri": "https://localhost:8080/",
          "height": 718
        },
        "outputId": "7e718d94-2668-4780-8dbb-f394cb4b9de8"
      },
      "source": [
        "n_cols = 5\n",
        "n_classes = 10\n",
        "fig, axes = plt.subplots(n_classes,n_cols, figsize=(5, 10))\n",
        "fig.tight_layout()\n",
        "\n",
        "\n",
        "for i in range(n_cols):\n",
        "  for j in range(n_classes):\n",
        "    slected_images = x_train[y_train == j]  # <-- select x_train but at y_train = j\n",
        "    image = slected_images[random.randint(0, len(slected_images)-1), :, :]  \n",
        "    axes[j][i].imshow(image, cmap='gray')  \n",
        "    axes[j][i].axis('off')\n",
        "    #axes[j][i].set_title(y_train[image])\n",
        "    axes[j][i].set_title(str(j))\n",
        "  "
      ],
      "execution_count": null,
      "outputs": [
        {
          "output_type": "display_data",
          "data": {
            "image/png": "[encoded data removed]",
            "text/plain": [
              "<Figure size 360x720 with 50 Axes>"
            ]
          },
          "metadata": {
            "tags": []
          }
        }
      ]
    },
    {
      "cell_type": "code",
      "metadata": {
        "id": "WNsqLhIAPn9O",
        "colab": {
          "base_uri": "https://localhost:8080/",
          "height": 34
        },
        "outputId": "ca1d3ffe-f97a-4627-b5e1-0bb5e94b5e99"
      },
      "source": [
        "x_train.shape"
      ],
      "execution_count": null,
      "outputs": [
        {
          "output_type": "execute_result",
          "data": {
            "text/plain": [
              "(60000, 28, 28)"
            ]
          },
          "metadata": {
            "tags": []
          },
          "execution_count": 8
        }
      ]
    },
    {
      "cell_type": "code",
      "metadata": {
        "id": "L9np1RZHPn5o",
        "colab": {
          "base_uri": "https://localhost:8080/",
          "height": 34
        },
        "outputId": "26c695a4-0d39-4955-9d9b-58231a74f3e6"
      },
      "source": [
        "y_train.shape\n"
      ],
      "execution_count": null,
      "outputs": [
        {
          "output_type": "execute_result",
          "data": {
            "text/plain": [
              "(60000,)"
            ]
          },
          "metadata": {
            "tags": []
          },
          "execution_count": 9
        }
      ]
    },
    {
      "cell_type": "code",
      "metadata": {
        "id": "Lutg1VzwSzx7"
      },
      "source": [
        "y_train = to_categorical(y_train, 10)\n",
        "y_test = to_categorical(y_test, 10) "
      ],
      "execution_count": 12,
      "outputs": []
    },
    {
      "cell_type": "code",
      "metadata": {
        "id": "9fvt1ZLNTNaR"
      },
      "source": [
        "x_train = x_train.reshape(x_train.shape[0], 28, 28, 1)  \n",
        "x_test = x_test.reshape(x_test.shape[0], 28, 28, 1) \n"
      ],
      "execution_count": 13,
      "outputs": []
    },
    {
      "cell_type": "code",
      "metadata": {
        "id": "P_kBp4ZBbJo9"
      },
      "source": [
        "x_train = x_train/255\n",
        "X_test = x_test/255"
      ],
      "execution_count": 14,
      "outputs": []
    },
    {
      "cell_type": "code",
      "metadata": {
        "id": "owuJuM2kPn2R"
      },
      "source": [
        "# CONVOLUTIONAL NEURAL NETWORK"
      ],
      "execution_count": 15,
      "outputs": []
    },
    {
      "cell_type": "code",
      "metadata": {
        "id": "3hlOhcdxPny5",
        "colab": {
          "base_uri": "https://localhost:8080/"
        },
        "outputId": "6d2d0a77-ebc5-43f5-e0fb-379219c24b37"
      },
      "source": [
        "model = Sequential() \n",
        "\n",
        "model.add(Conv2D(32, (5,5), input_shape=(28, 28, 1), activation='relu'))  # \n",
        "model.add(MaxPooling2D(pool_size=(2,2) ))\n",
        "\n",
        "model.add(Conv2D(64, (3,3), activation='relu'))  # \n",
        "model.add(MaxPooling2D(pool_size=(2,2) ))\n",
        "\n",
        "model.add(Flatten())\n",
        "model.add(Dense(256, activation='relu'))\n",
        "#model.add(Dense(387, activation='relu'))\n",
        "model.add(Dense(10, activation='softmax')) \n",
        "model.compile(RMSprop(lr=0.0001), loss='categorical_crossentropy', metrics=['accuracy'])\n",
        "model.summary()"
      ],
      "execution_count": 16,
      "outputs": [
        {
          "output_type": "stream",
          "text": [
            "Model: \"sequential\"\n",
            "_________________________________________________________________\n",
            "Layer (type)                 Output Shape              Param #   \n",
            "=================================================================\n",
            "conv2d (Conv2D)              (None, 24, 24, 32)        832       \n",
            "_________________________________________________________________\n",
            "max_pooling2d (MaxPooling2D) (None, 12, 12, 32)        0         \n",
            "_________________________________________________________________\n",
            "conv2d_1 (Conv2D)            (None, 10, 10, 64)        18496     \n",
            "_________________________________________________________________\n",
            "max_pooling2d_1 (MaxPooling2 (None, 5, 5, 64)          0         \n",
            "_________________________________________________________________\n",
            "flatten (Flatten)            (None, 1600)              0         \n",
            "_________________________________________________________________\n",
            "dense (Dense)                (None, 256)               409856    \n",
            "_________________________________________________________________\n",
            "dense_1 (Dense)              (None, 10)                2570      \n",
            "=================================================================\n",
            "Total params: 431,754\n",
            "Trainable params: 431,754\n",
            "Non-trainable params: 0\n",
            "_________________________________________________________________\n"
          ],
          "name": "stdout"
        }
      ]
    },
    {
      "cell_type": "code",
      "metadata": {
        "id": "tqT9QQKNPnvB",
        "colab": {
          "base_uri": "https://localhost:8080/"
        },
        "outputId": "cf5bfc8c-99d0-42bf-aff3-c214fe8419f5"
      },
      "source": [
        "h = model.fit(x_train, y_train, epochs=10, verbose=1, validation_data=(x_test, y_test))"
      ],
      "execution_count": 17,
      "outputs": [
        {
          "output_type": "stream",
          "text": [
            "Epoch 1/10\n",
            "1875/1875 [==============================] - 42s 7ms/step - loss: 0.6683 - accuracy: 0.8251 - val_loss: 12.8801 - val_accuracy: 0.9697\n",
            "Epoch 2/10\n",
            "1875/1875 [==============================] - 12s 6ms/step - loss: 0.1003 - accuracy: 0.9698 - val_loss: 8.1745 - val_accuracy: 0.9796\n",
            "Epoch 3/10\n",
            "1875/1875 [==============================] - 12s 6ms/step - loss: 0.0674 - accuracy: 0.9797 - val_loss: 8.0023 - val_accuracy: 0.9822\n",
            "Epoch 4/10\n",
            "1875/1875 [==============================] - 12s 6ms/step - loss: 0.0508 - accuracy: 0.9843 - val_loss: 7.6305 - val_accuracy: 0.9825\n",
            "Epoch 5/10\n",
            "1875/1875 [==============================] - 12s 6ms/step - loss: 0.0435 - accuracy: 0.9867 - val_loss: 5.4033 - val_accuracy: 0.9875\n",
            "Epoch 6/10\n",
            "1875/1875 [==============================] - 12s 6ms/step - loss: 0.0392 - accuracy: 0.9882 - val_loss: 7.2370 - val_accuracy: 0.9867\n",
            "Epoch 7/10\n",
            "1875/1875 [==============================] - 12s 7ms/step - loss: 0.0337 - accuracy: 0.9901 - val_loss: 6.5793 - val_accuracy: 0.9885\n",
            "Epoch 8/10\n",
            "1875/1875 [==============================] - 12s 6ms/step - loss: 0.0298 - accuracy: 0.9912 - val_loss: 6.5478 - val_accuracy: 0.9878\n",
            "Epoch 9/10\n",
            "1875/1875 [==============================] - 12s 6ms/step - loss: 0.0261 - accuracy: 0.9926 - val_loss: 5.5560 - val_accuracy: 0.9896\n",
            "Epoch 10/10\n",
            "1875/1875 [==============================] - 12s 6ms/step - loss: 0.0232 - accuracy: 0.9928 - val_loss: 4.6704 - val_accuracy: 0.9908\n"
          ],
          "name": "stdout"
        }
      ]
    },
    {
      "cell_type": "code",
      "metadata": {
        "id": "MOG8E3Sfn6h5",
        "colab": {
          "base_uri": "https://localhost:8080/",
          "height": 513
        },
        "outputId": "386ad87e-c75f-43aa-ef93-0efacfe6b31f"
      },
      "source": [
        "plt.plot(h.history['loss'], label='training loss')\n",
        "plt.plot(h.history['val_loss'], label='testing loss')\n",
        "plt.legend()\n",
        "plt.show()\n",
        "\n",
        "plt.plot(h.history['accuracy'], label='training accuracy')\n",
        "plt.plot(h.history['val_accuracy'], label='testing accuracy')\n",
        "plt.legend()\n",
        "plt.show()"
      ],
      "execution_count": 19,
      "outputs": [
        {
          "output_type": "display_data",
          "data": {
            "image/png": "[encoded data removed]",
            "text/plain": [
              "<Figure size 432x288 with 1 Axes>"
            ]
          },
          "metadata": {
            "tags": [],
            "needs_background": "light"
          }
        },
        {
          "output_type": "display_data",
          "data": {
            "image/png": "[encoded data removed]",
            "text/plain": [
              "<Figure size 432x288 with 1 Axes>"
            ]
          },
          "metadata": {
            "tags": [],
            "needs_background": "light"
          }
        }
      ]
    },
    {
      "cell_type": "code",
      "metadata": {
        "id": "NwJXOFqoPnpq",
        "colab": {
          "base_uri": "https://localhost:8080/",
          "height": 513
        },
        "outputId": "f7e10410-dbdd-4bca-c3e7-f5c69366be9d"
      },
      "source": [
        "# at 87% accuracy\n",
        "plt.plot(h.history['loss'], label='training loss')\n",
        "plt.plot(h.history['val_loss'], label='testing loss')\n",
        "plt.legend()\n",
        "plt.show()\n",
        "\n",
        "plt.plot(h.history['accuracy'], label='training accuracy')\n",
        "plt.plot(h.history['val_accuracy'], label='testing accuracy')\n",
        "plt.legend()\n",
        "plt.show()"
      ],
      "execution_count": 21,
      "outputs": [
        {
          "output_type": "display_data",
          "data": {
            "image/png": "[encoded data removed]",
            "text/plain": [
              "<Figure size 432x288 with 1 Axes>"
            ]
          },
          "metadata": {
            "tags": [],
            "needs_background": "light"
          }
        },
        {
          "output_type": "display_data",
          "data": {
            "image/png": "[encoded data removed]",
            "text/plain": [
              "<Figure size 432x288 with 1 Axes>"
            ]
          },
          "metadata": {
            "tags": [],
            "needs_background": "light"
          }
        }
      ]
    },
    {
      "cell_type": "code",
      "metadata": {
        "id": "4bK6OzqLPnmd"
      },
      "source": [
        "model.save('digit_model.h5')"
      ],
      "execution_count": 22,
      "outputs": []
    },
    {
      "cell_type": "code",
      "metadata": {
        "id": "a4YtZEhlPnkh",
        "colab": {
          "base_uri": "https://localhost:8080/",
          "height": 17
        },
        "outputId": "0a5dd664-edcd-45a5-d5c7-0a976aa14f0c"
      },
      "source": [
        "from google.colab import files\n",
        "files.download('digit_model.h5')"
      ],
      "execution_count": 23,
      "outputs": [
        {
          "output_type": "display_data",
          "data": {
            "application/javascript": [
              "\n",
              "    async function download(id, filename, size) {\n",
              "      if (!google.colab.kernel.accessAllowed) {\n",
              "        return;\n",
              "      }\n",
              "      const div = document.createElement('div');\n",
              "      const label = document.createElement('label');\n",
              "      label.textContent = `Downloading \"${filename}\": `;\n",
              "      div.appendChild(label);\n",
              "      const progress = document.createElement('progress');\n",
              "      progress.max = size;\n",
              "      div.appendChild(progress);\n",
              "      document.body.appendChild(div);\n",
              "\n",
              "      const buffers = [];\n",
              "      let downloaded = 0;\n",
              "\n",
              "      const channel = await google.colab.kernel.comms.open(id);\n",
              "      // Send a message to notify the kernel that we're ready.\n",
              "      channel.send({})\n",
              "\n",
              "      for await (const message of channel.messages) {\n",
              "        // Send a message to notify the kernel that we're ready.\n",
              "        channel.send({})\n",
              "        if (message.buffers) {\n",
              "          for (const buffer of message.buffers) {\n",
              "            buffers.push(buffer);\n",
              "            downloaded += buffer.byteLength;\n",
              "            progress.value = downloaded;\n",
              "          }\n",
              "        }\n",
              "      }\n",
              "      const blob = new Blob(buffers, {type: 'application/binary'});\n",
              "      const a = document.createElement('a');\n",
              "      a.href = window.URL.createObjectURL(blob);\n",
              "      a.download = filename;\n",
              "      div.appendChild(a);\n",
              "      a.click();\n",
              "      div.remove();\n",
              "    }\n",
              "  "
            ],
            "text/plain": [
              "<IPython.core.display.Javascript object>"
            ]
          },
          "metadata": {
            "tags": []
          }
        },
        {
          "output_type": "display_data",
          "data": {
            "application/javascript": [
              "download(\"download_b28c780f-90df-4766-bdb7-358d59801ce6\", \"digit_model.h5\", 3493232)"
            ],
            "text/plain": [
              "<IPython.core.display.Javascript object>"
            ]
          },
          "metadata": {
            "tags": []
          }
        }
      ]
    },
    {
      "cell_type": "code",
      "metadata": {
        "id": "9HApWgxOPnhR",
        "colab": {
          "base_uri": "https://localhost:8080/"
        },
        "outputId": "3406ac8b-86ca-4507-9951-29cb9c359ff9"
      },
      "source": [
        "model.predict(x_test)[:5]"
      ],
      "execution_count": 29,
      "outputs": [
        {
          "output_type": "execute_result",
          "data": {
            "text/plain": [
              "array([[0., 0., 0., 0., 0., 0., 0., 1., 0., 0.],\n",
              "       [0., 0., 1., 0., 0., 0., 0., 0., 0., 0.],\n",
              "       [0., 1., 0., 0., 0., 0., 0., 0., 0., 0.],\n",
              "       [1., 0., 0., 0., 0., 0., 0., 0., 0., 0.],\n",
              "       [0., 0., 0., 0., 1., 0., 0., 0., 0., 0.]], dtype=float32)"
            ]
          },
          "metadata": {
            "tags": []
          },
          "execution_count": 29
        }
      ]
    },
    {
      "cell_type": "code",
      "metadata": {
        "id": "XitVzkGWPnfZ",
        "colab": {
          "base_uri": "https://localhost:8080/"
        },
        "outputId": "90713a59-7010-441a-ebea-fabbb36e3c91"
      },
      "source": [
        "y_test[:5]"
      ],
      "execution_count": 26,
      "outputs": [
        {
          "output_type": "execute_result",
          "data": {
            "text/plain": [
              "array([[0., 0., 0., 0., 0., 0., 0., 1., 0., 0.],\n",
              "       [0., 0., 1., 0., 0., 0., 0., 0., 0., 0.],\n",
              "       [0., 1., 0., 0., 0., 0., 0., 0., 0., 0.],\n",
              "       [1., 0., 0., 0., 0., 0., 0., 0., 0., 0.],\n",
              "       [0., 0., 0., 0., 1., 0., 0., 0., 0., 0.]], dtype=float32)"
            ]
          },
          "metadata": {
            "tags": []
          },
          "execution_count": 26
        }
      ]
    },
    {
      "cell_type": "code",
      "metadata": {
        "id": "QVQSdtujPncR",
        "colab": {
          "base_uri": "https://localhost:8080/"
        },
        "outputId": "46924c70-fc85-4e8b-9f4a-6fb81c01bb4e"
      },
      "source": [
        "y_pred = model.predict(x_test)\n",
        "model.evaluate(x_test, y_test)"
      ],
      "execution_count": 33,
      "outputs": [
        {
          "output_type": "stream",
          "text": [
            "313/313 [==============================] - 1s 3ms/step - loss: 4.6704 - accuracy: 0.9908\n"
          ],
          "name": "stdout"
        },
        {
          "output_type": "execute_result",
          "data": {
            "text/plain": [
              "[4.670400142669678, 0.9908000230789185]"
            ]
          },
          "metadata": {
            "tags": []
          },
          "execution_count": 33
        }
      ]
    },
    {
      "cell_type": "code",
      "metadata": {
        "id": "m5KXLnP3PnZJ"
      },
      "source": [
        ""
      ],
      "execution_count": null,
      "outputs": []
    },
    {
      "cell_type": "code",
      "metadata": {
        "id": "FSkB8As-PnVr"
      },
      "source": [
        ""
      ],
      "execution_count": null,
      "outputs": []
    },
    {
      "cell_type": "code",
      "metadata": {
        "id": "wKGopfUePnTZ"
      },
      "source": [
        ""
      ],
      "execution_count": null,
      "outputs": []
    },
    {
      "cell_type": "code",
      "metadata": {
        "id": "xG9CAgg0PnQ6"
      },
      "source": [
        "####################################################################################################################################################\n",
        "#############################################################################################################################"
      ],
      "execution_count": null,
      "outputs": []
    }
  ]
}